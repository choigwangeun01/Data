{
 "cells": [
  {
   "cell_type": "code",
   "execution_count": 1,
   "id": "b2e1d52c",
   "metadata": {},
   "outputs": [],
   "source": [
    "subjects = [\"physics\",\"calculus\",\"poetry\",\"history\"]\n",
    "grades = [98,97,85,88]"
   ]
  },
  {
   "cell_type": "code",
   "execution_count": 2,
   "id": "d882793b",
   "metadata": {},
   "outputs": [
    {
     "name": "stdout",
     "output_type": "stream",
     "text": [
      "[['physics', 98], ['calculus', 97], ['poetry', 85], ['history', 88]]\n"
     ]
    }
   ],
   "source": [
    "gradebook = [['physics',98],['calculus',97],['poetry',85],['history',88]]\n",
    "print(gradebook)"
   ]
  },
  {
   "cell_type": "code",
   "execution_count": 3,
   "id": "fedbe346",
   "metadata": {},
   "outputs": [
    {
     "name": "stdout",
     "output_type": "stream",
     "text": [
      "[['physics', 98], ['calculus', 97], ['poetry', 85], ['history', 88], ['computer science', 100], ['visual arts', 93]]\n"
     ]
    }
   ],
   "source": [
    "gradebook.append([\"computer science\",100])\n",
    "gradebook.append([\"visual arts\",93])\n",
    "print(gradebook)"
   ]
  },
  {
   "cell_type": "code",
   "execution_count": 4,
   "id": "c1a7f221",
   "metadata": {},
   "outputs": [
    {
     "data": {
      "text/plain": [
       "[['physics', 98],\n",
       " ['calculus', 97],\n",
       " ['poetry', 85],\n",
       " ['history', 88],\n",
       " ['computer science', 100],\n",
       " ['visual arts', 98]]"
      ]
     },
     "execution_count": 4,
     "metadata": {},
     "output_type": "execute_result"
    }
   ],
   "source": [
    "gradebook[5][1] += 5\n",
    "gradebook"
   ]
  },
  {
   "cell_type": "code",
   "execution_count": 5,
   "id": "89cd17bf",
   "metadata": {},
   "outputs": [],
   "source": [
    "gradebook[2].remove(85)\n",
    "gradebook[2].append(\"Pass\")"
   ]
  },
  {
   "cell_type": "code",
   "execution_count": 6,
   "id": "38c416d8",
   "metadata": {},
   "outputs": [
    {
     "name": "stdout",
     "output_type": "stream",
     "text": [
      "[['politics', 80], ['latin', 96], ['dance', 97], ['architecture', 65], ['physics', 98], ['calculus', 97], ['poetry', 'Pass'], ['history', 88], ['computer science', 100], ['visual arts', 98]]\n"
     ]
    }
   ],
   "source": [
    "last_semester_gradebook = [[\"politics\", 80], [\"latin\", 96], [\"dance\", 97], [\"architecture\", 65]]\n",
    "full_gradebook = last_semester_gradebook + gradebook\n",
    "print(full_gradebook)"
   ]
  }
 ],
 "metadata": {
  "kernelspec": {
   "display_name": "Python 3 (ipykernel)",
   "language": "python",
   "name": "python3"
  },
  "language_info": {
   "codemirror_mode": {
    "name": "ipython",
    "version": 3
   },
   "file_extension": ".py",
   "mimetype": "text/x-python",
   "name": "python",
   "nbconvert_exporter": "python",
   "pygments_lexer": "ipython3",
   "version": "3.9.12"
  }
 },
 "nbformat": 4,
 "nbformat_minor": 5
}
